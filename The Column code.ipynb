{
 "cells": [
  {
   "cell_type": "markdown",
   "id": "47f1a1ac",
   "metadata": {},
   "source": [
    "# The Column"
   ]
  },
  {
   "cell_type": "markdown",
   "id": "af0b7117",
   "metadata": {},
   "source": [
    "## Importing libraries"
   ]
  },
  {
   "cell_type": "code",
   "execution_count": null,
   "id": "77fd1078",
   "metadata": {},
   "outputs": [],
   "source": [
    "import pandas as pd\n",
    "import datetime as dt\n",
    "import matplotlib.pyplot as plt\n",
    "import numpy as np\n",
    "import nltk\n",
    "nltk.download('stopwords')\n",
    "nltk.download('punkt')"
   ]
  },
  {
   "cell_type": "markdown",
   "id": "f228295b",
   "metadata": {},
   "source": [
    "## Importing summary file"
   ]
  },
  {
   "cell_type": "code",
   "execution_count": null,
   "id": "38859f8d",
   "metadata": {},
   "outputs": [],
   "source": [
    "filename = \"summary.xlsx\"\n",
    "\n",
    "df = pd.read_excel(filename)"
   ]
  },
  {
   "cell_type": "markdown",
   "id": "10deffca",
   "metadata": {},
   "source": [
    "## Data Cleaning"
   ]
  },
  {
   "cell_type": "code",
   "execution_count": null,
   "id": "18f68133",
   "metadata": {},
   "outputs": [],
   "source": [
    "#df = df.drop(columns = ['Unnamed: 13'],axis = 1)"
   ]
  },
  {
   "cell_type": "code",
   "execution_count": null,
   "id": "d5dc0d6f",
   "metadata": {},
   "outputs": [],
   "source": [
    "df.isnull().sum()"
   ]
  },
  {
   "cell_type": "code",
   "execution_count": null,
   "id": "a2011b79",
   "metadata": {},
   "outputs": [],
   "source": [
    "df = df.dropna(how='any',axis=0) "
   ]
  },
  {
   "cell_type": "code",
   "execution_count": null,
   "id": "b55f00d2",
   "metadata": {},
   "outputs": [],
   "source": [
    "df.isnull().sum()"
   ]
  },
  {
   "cell_type": "markdown",
   "id": "54b2f200",
   "metadata": {},
   "source": [
    "### Nulls are gone!"
   ]
  },
  {
   "cell_type": "code",
   "execution_count": null,
   "id": "d40f072b",
   "metadata": {},
   "outputs": [],
   "source": [
    "df.Duration.unique()"
   ]
  },
  {
   "cell_type": "code",
   "execution_count": null,
   "id": "1ca188b8",
   "metadata": {},
   "outputs": [],
   "source": [
    "df.Sends.unique()"
   ]
  },
  {
   "cell_type": "code",
   "execution_count": null,
   "id": "5350f0b5",
   "metadata": {},
   "outputs": [],
   "source": [
    "df.Opens.unique()"
   ]
  },
  {
   "cell_type": "code",
   "execution_count": null,
   "id": "a4163007",
   "metadata": {},
   "outputs": [],
   "source": [
    "df.Clicks.unique()"
   ]
  },
  {
   "cell_type": "code",
   "execution_count": null,
   "id": "f254cb8f",
   "metadata": {},
   "outputs": [],
   "source": [
    "df.dtypes"
   ]
  },
  {
   "cell_type": "code",
   "execution_count": null,
   "id": "21e267b9",
   "metadata": {},
   "outputs": [],
   "source": [
    "df['Date/Time'] = pd.to_datetime(df['Date/Time'])"
   ]
  },
  {
   "cell_type": "code",
   "execution_count": null,
   "id": "318a9f13",
   "metadata": {},
   "outputs": [],
   "source": [
    "df['Duration'] = pd.to_datetime(df['Duration'])"
   ]
  },
  {
   "cell_type": "code",
   "execution_count": null,
   "id": "36631cca",
   "metadata": {},
   "outputs": [],
   "source": [
    "df.dtypes"
   ]
  },
  {
   "cell_type": "code",
   "execution_count": null,
   "id": "8f022cad",
   "metadata": {},
   "outputs": [],
   "source": [
    "df['Weekday'] = df['Date/Time'].dt.dayofweek"
   ]
  },
  {
   "cell_type": "code",
   "execution_count": null,
   "id": "b3553a2f",
   "metadata": {},
   "outputs": [],
   "source": [
    "df.head(20)"
   ]
  },
  {
   "cell_type": "code",
   "execution_count": null,
   "id": "85afde08",
   "metadata": {},
   "outputs": [],
   "source": [
    "df.describe()"
   ]
  },
  {
   "cell_type": "code",
   "execution_count": null,
   "id": "d20eb411",
   "metadata": {},
   "outputs": [],
   "source": [
    "df.to_excel(r'summaryclean.xlsx', index = False)"
   ]
  },
  {
   "cell_type": "markdown",
   "id": "a851be92",
   "metadata": {},
   "source": [
    "## Exploratory Data Analysis"
   ]
  },
  {
   "cell_type": "code",
   "execution_count": null,
   "id": "45f4c339",
   "metadata": {},
   "outputs": [],
   "source": [
    "ax = df.plot.line('Date/Time', 'Sends')"
   ]
  },
  {
   "cell_type": "code",
   "execution_count": null,
   "id": "fc56bd83",
   "metadata": {},
   "outputs": [],
   "source": [
    "plt.boxplot(x= df.Opens)\n",
    "plt.title('Opens')"
   ]
  },
  {
   "cell_type": "code",
   "execution_count": null,
   "id": "4e944cb7",
   "metadata": {},
   "outputs": [],
   "source": [
    "plt.boxplot(x= df.Clicks)\n",
    "plt.title('Clicks')"
   ]
  },
  {
   "cell_type": "code",
   "execution_count": null,
   "id": "5f34d53f",
   "metadata": {},
   "outputs": [],
   "source": [
    "df[df.Clicks > 1000]"
   ]
  },
  {
   "cell_type": "markdown",
   "id": "3510a00e",
   "metadata": {},
   "source": [
    " <span style=\"color:red\">Why does 5-17-2021 have so many clicks? </span>"
   ]
  },
  {
   "cell_type": "code",
   "execution_count": null,
   "id": "b065b0b4",
   "metadata": {},
   "outputs": [],
   "source": [
    "plt.boxplot(x= df['Open Rate'])\n",
    "plt.title('Open Rate')"
   ]
  },
  {
   "cell_type": "code",
   "execution_count": null,
   "id": "24cfce8f",
   "metadata": {},
   "outputs": [],
   "source": [
    "df[df['Open Rate'] > 3]"
   ]
  },
  {
   "cell_type": "markdown",
   "id": "395653f8",
   "metadata": {},
   "source": [
    " <span style=\"color:red\">Why does 7-24-2020 have such a high open rate? </span>"
   ]
  },
  {
   "cell_type": "code",
   "execution_count": null,
   "id": "6324b7e0",
   "metadata": {},
   "outputs": [],
   "source": [
    "plt.boxplot(x= df['Click Rate'])\n",
    "plt.title('Click Rate')"
   ]
  },
  {
   "cell_type": "code",
   "execution_count": null,
   "id": "8f19d1e4",
   "metadata": {},
   "outputs": [],
   "source": [
    "plt.boxplot(x= df['Unsubscribes'])\n",
    "plt.title('Unsubscribes')"
   ]
  },
  {
   "cell_type": "code",
   "execution_count": null,
   "id": "77dd4bef",
   "metadata": {},
   "outputs": [],
   "source": [
    "plt.boxplot(x= df['Word Count'])\n",
    "plt.title('Word Count')"
   ]
  },
  {
   "cell_type": "code",
   "execution_count": null,
   "id": "92ad4474",
   "metadata": {},
   "outputs": [],
   "source": [
    "plt.boxplot(x= df['Link Count'])\n",
    "plt.title('Link Count')"
   ]
  },
  {
   "cell_type": "markdown",
   "id": "6e7e12c5",
   "metadata": {},
   "source": [
    "### Checking for any unusual ratios"
   ]
  },
  {
   "cell_type": "code",
   "execution_count": null,
   "id": "1039f697",
   "metadata": {},
   "outputs": [],
   "source": [
    "molecule = df[\"Molecule of the Day\"].sum()"
   ]
  },
  {
   "cell_type": "code",
   "execution_count": null,
   "id": "d6b12954",
   "metadata": {},
   "outputs": [],
   "source": [
    "meme = df[\"Memes\"].sum()"
   ]
  },
  {
   "cell_type": "code",
   "execution_count": null,
   "id": "569e8c41",
   "metadata": {},
   "outputs": [],
   "source": [
    "gifs = df['Gifs'].sum()"
   ]
  },
  {
   "cell_type": "code",
   "execution_count": null,
   "id": "3cac6e55",
   "metadata": {},
   "outputs": [],
   "source": [
    "df.shape"
   ]
  },
  {
   "cell_type": "code",
   "execution_count": null,
   "id": "4c7711d1",
   "metadata": {},
   "outputs": [],
   "source": [
    "print((molecule/232)*100)"
   ]
  },
  {
   "cell_type": "code",
   "execution_count": null,
   "id": "cb17b408",
   "metadata": {},
   "outputs": [],
   "source": [
    "print((meme/232)*100)"
   ]
  },
  {
   "cell_type": "code",
   "execution_count": null,
   "id": "07edf935",
   "metadata": {},
   "outputs": [],
   "source": [
    "print((gifs/232)*100)"
   ]
  },
  {
   "cell_type": "code",
   "execution_count": null,
   "id": "51c575aa",
   "metadata": {},
   "outputs": [],
   "source": [
    "unsub = df[df.Unsubscribes > 0]\n",
    "unsub.head()"
   ]
  },
  {
   "cell_type": "code",
   "execution_count": null,
   "id": "6f1c04f2",
   "metadata": {},
   "outputs": [],
   "source": [
    "moleunsub = unsub[unsub['Molecule of the Day'] == 1]"
   ]
  },
  {
   "cell_type": "code",
   "execution_count": null,
   "id": "1118b835",
   "metadata": {},
   "outputs": [],
   "source": [
    "memeunsub = unsub[unsub.Memes == 1]"
   ]
  },
  {
   "cell_type": "code",
   "execution_count": null,
   "id": "a26fdbba",
   "metadata": {},
   "outputs": [],
   "source": [
    "gifsunsub = unsub[unsub.Gifs == 1]"
   ]
  },
  {
   "cell_type": "code",
   "execution_count": null,
   "id": "b26ee318",
   "metadata": {},
   "outputs": [],
   "source": [
    "mole_num_unsub = moleunsub.Unsubscribes.sum()\n",
    "print(mole_num_unsub)"
   ]
  },
  {
   "cell_type": "code",
   "execution_count": null,
   "id": "85f41c29",
   "metadata": {},
   "outputs": [],
   "source": [
    "meme_num_unsub = memeunsub.Unsubscribes.sum()\n",
    "print(meme_num_unsub)"
   ]
  },
  {
   "cell_type": "code",
   "execution_count": null,
   "id": "23467b06",
   "metadata": {},
   "outputs": [],
   "source": [
    "gifs_num_unsub = gifsunsub.Unsubscribes.sum()\n",
    "print(gifs_num_unsub)"
   ]
  },
  {
   "cell_type": "code",
   "execution_count": null,
   "id": "93f8c9e1",
   "metadata": {},
   "outputs": [],
   "source": [
    "allunsub = df.Unsubscribes.sum()\n",
    "print(allunsub)"
   ]
  },
  {
   "cell_type": "code",
   "execution_count": null,
   "id": "00ffd508",
   "metadata": {},
   "outputs": [],
   "source": [
    "(mole_num_unsub/allunsub)*100"
   ]
  },
  {
   "cell_type": "code",
   "execution_count": null,
   "id": "2e2909dc",
   "metadata": {},
   "outputs": [],
   "source": [
    "(meme_num_unsub/allunsub)*100"
   ]
  },
  {
   "cell_type": "code",
   "execution_count": null,
   "id": "4498ec97",
   "metadata": {},
   "outputs": [],
   "source": [
    "(gifs_num_unsub/allunsub)*100"
   ]
  },
  {
   "cell_type": "markdown",
   "id": "b235606a",
   "metadata": {},
   "source": [
    "### Maybe day of the week makes a difference?"
   ]
  },
  {
   "cell_type": "code",
   "execution_count": null,
   "id": "b0e7f279",
   "metadata": {},
   "outputs": [],
   "source": [
    "monday = df[df.Weekday == 0]\n",
    "tuesday = df[df.Weekday == 1]\n",
    "wednesday = df[df.Weekday == 2]\n",
    "thursday = df[df.Weekday == 3]\n",
    "friday = df[df.Weekday == 4]\n",
    "saturday = df[df.Weekday == 5]\n",
    "sunday = df[df.Weekday == 6]"
   ]
  },
  {
   "cell_type": "code",
   "execution_count": null,
   "id": "c1ea36c6",
   "metadata": {},
   "outputs": [],
   "source": [
    "monday_unsub = monday.Unsubscribes.sum()\n",
    "tuesday_unsub = tuesday.Unsubscribes.sum()\n",
    "wednesday_unsub = wednesday.Unsubscribes.sum()\n",
    "thursday_unsub = thursday.Unsubscribes.sum()\n",
    "friday_unsub = friday.Unsubscribes.sum()\n",
    "saturday_unsub = saturday.Unsubscribes.sum()\n",
    "sunday_unsub = sunday.Unsubscribes.sum()"
   ]
  },
  {
   "cell_type": "code",
   "execution_count": null,
   "id": "981e749b",
   "metadata": {},
   "outputs": [],
   "source": [
    "unsubs = (monday_unsub, tuesday_unsub, wednesday_unsub, thursday_unsub, friday_unsub, saturday_unsub, sunday_unsub)\n",
    "y_pos = np.arange(len(unsubs))\n",
    "days_week = ('Monday', 'Tuesday', 'Wednesday', 'Thursday', 'Friday', 'Saturday', 'Sunday')\n",
    "\n",
    "plt.bar(y_pos, unsubs, align='center', alpha=0.5)\n",
    "plt.xticks(y_pos, days_week)\n",
    "plt.ylabel('Days of week')\n",
    "plt.title('Unsubscribers by Day')\n",
    "\n",
    "plt.show()"
   ]
  },
  {
   "cell_type": "markdown",
   "id": "6069f29e",
   "metadata": {},
   "source": [
    "### These results are expected, given the author posted mostly on MWF. This one line is for the next section."
   ]
  },
  {
   "cell_type": "code",
   "execution_count": null,
   "id": "892bf70f",
   "metadata": {},
   "outputs": [],
   "source": [
    "headers = {'User-Agent': 'Mozilla/5.0 (Windows NT 10.0; Win64; x64) AppleWebKit/537.36 (KHTML, like Gecko) Chrome/94.0.4606.81 Safari/537.36'}"
   ]
  },
  {
   "cell_type": "markdown",
   "id": "d61bbd5e",
   "metadata": {},
   "source": [
    "## Natural Language Processing"
   ]
  },
  {
   "cell_type": "code",
   "execution_count": null,
   "id": "eff7bf1c",
   "metadata": {},
   "outputs": [],
   "source": [
    "# Obtained from: https://www.geeksforgeeks.org/python-program-crawl-web-page-get-frequent-words/\n",
    "# Python3 program for a word frequency\n",
    "# counter after crawling/scraping a web-page\n",
    "import requests\n",
    "from bs4 import BeautifulSoup\n",
    "import operator\n",
    "from collections import Counter\n",
    " \n",
    "'''Function defining the web-crawler/core\n",
    "spider, which will fetch information from\n",
    "a given website, and push the contents to\n",
    "the second  function clean_wordlist()'''\n",
    " \n",
    " \n",
    "def start(url):\n",
    " \n",
    "    # empty list to store the contents of\n",
    "    # the website fetched from our web-crawler\n",
    "    wordlist = []\n",
    "    source_code = requests.get(url, headers=headers).text\n",
    " \n",
    "    # BeautifulSoup object which will\n",
    "    # ping the requested url for data\n",
    "    soup = BeautifulSoup(source_code, 'html.parser')\n",
    " \n",
    "    # Text in given web-page is stored under\n",
    "    # the <div> tags with class <entry-content>\n",
    "    for each_text in soup.findAll('td', {'class': 'td-padding'}):\n",
    "        content = each_text.text\n",
    " \n",
    "        # use split() to break the sentence into\n",
    "        # words and convert them into lowercase\n",
    "        words = content.lower().split()\n",
    " \n",
    "        for each_word in words:\n",
    "            wordlist.append(each_word)\n",
    "        clean_wordlist(wordlist)\n",
    " \n",
    "# Function removes any unwanted symbols\n",
    " \n",
    " \n",
    "def clean_wordlist(wordlist):\n",
    " \n",
    "    clean_list = []\n",
    "    for word in wordlist:\n",
    "        symbols = \"!@#$%^&*()_-+={[}]|\\;:\\\"<>?/., \"\n",
    " \n",
    "        for i in range(len(symbols)):\n",
    "            word = word.replace(symbols[i], '')\n",
    " \n",
    "        if len(word) > 0:\n",
    "            clean_list.append(word)\n",
    "    create_dictionary(clean_list)\n",
    " \n",
    "# Creates a dictionary containing each word's\n",
    "# count and top_20 ocuuring words\n",
    " \n",
    " \n",
    "def create_dictionary(clean_list):\n",
    "    clean_list = ' '.join(clean_list)\n",
    "    stop_words = set(stopwords.words('english'))\n",
    "    word_tokens = word_tokenize(clean_list)\n",
    "    filtered_sentence = [w for w in word_tokens if not w.lower() in stop_words]\n",
    "    filtered_sentence = []\n",
    "    \n",
    "    for w in word_tokens:\n",
    "        if w not in stop_words:\n",
    "            filtered_sentence.append(w)\n",
    "    \n",
    "    for word in filtered_sentence:\n",
    "        if word in word_count:\n",
    "            word_count[word] += 1\n",
    "        else:\n",
    "            word_count[word] = 1"
   ]
  },
  {
   "cell_type": "code",
   "execution_count": null,
   "id": "f280671f",
   "metadata": {},
   "outputs": [],
   "source": [
    "from datetime import datetime\n",
    "\n",
    "#highunsubs['Date for web scrape'] = .strftime('%m%d%Y')\n",
    "df['Date for web scrape'] =  pd.to_datetime(df['Date/Time'], format='%m%d%Y')"
   ]
  },
  {
   "cell_type": "code",
   "execution_count": null,
   "id": "fd93e8ae",
   "metadata": {},
   "outputs": [],
   "source": [
    "df['Date for web scrape'] = df['Date for web scrape'].dt.strftime('%m%d%Y')"
   ]
  },
  {
   "cell_type": "code",
   "execution_count": null,
   "id": "c0d8955b",
   "metadata": {},
   "outputs": [],
   "source": [
    "df.dtypes"
   ]
  },
  {
   "cell_type": "code",
   "execution_count": null,
   "id": "8553da43",
   "metadata": {},
   "outputs": [],
   "source": [
    "df.shape"
   ]
  },
  {
   "cell_type": "markdown",
   "id": "0ac1ac6d",
   "metadata": {},
   "source": [
    "### Top 10 words across all newsletters"
   ]
  },
  {
   "cell_type": "code",
   "execution_count": null,
   "id": "dd430df4",
   "metadata": {},
   "outputs": [],
   "source": [
    "from nltk.corpus import stopwords\n",
    "from nltk.tokenize import word_tokenize\n",
    "\n",
    "if __name__ == '__main__':\n",
    "    word_count = {}\n",
    "    for date in range(232):\n",
    "        url = f'https://thecolumn.co/daily/{df[\"Date for web scrape\"].iloc[date]}'\n",
    "        start(url)\n",
    "c = Counter(word_count)\n",
    "top = c.most_common(11)\n",
    "print(top)\n"
   ]
  },
  {
   "cell_type": "code",
   "execution_count": null,
   "id": "bf368091",
   "metadata": {},
   "outputs": [],
   "source": [
    "unsubs = df[df.Unsubscribes > 0]\n",
    "unsubs.reset_index()"
   ]
  },
  {
   "cell_type": "markdown",
   "id": "b73cf4a4",
   "metadata": {},
   "source": [
    "###  Top 10 words across newsletters released on days with unsubscribers"
   ]
  },
  {
   "cell_type": "code",
   "execution_count": null,
   "id": "31e7d31a",
   "metadata": {},
   "outputs": [],
   "source": [
    "if __name__ == '__main__':\n",
    "    word_count = {}\n",
    "    for date in range(142):\n",
    "        url = f'https://thecolumn.co/daily/{unsubs[\"Date for web scrape\"].iloc[date]}'\n",
    "        start(url)\n",
    "c = Counter(word_count)\n",
    "top = c.most_common(11)\n",
    "print(top)"
   ]
  },
  {
   "cell_type": "code",
   "execution_count": null,
   "id": "cd98504a",
   "metadata": {},
   "outputs": [],
   "source": [
    "highunsubs = df[df.Unsubscribes > 2]\n",
    "highunsubs.reset_index()"
   ]
  },
  {
   "cell_type": "markdown",
   "id": "8433b28c",
   "metadata": {},
   "source": [
    "### Top 10 words during high unsub rates (3 or more)"
   ]
  },
  {
   "cell_type": "code",
   "execution_count": null,
   "id": "dd7cba79",
   "metadata": {},
   "outputs": [],
   "source": [
    "if __name__ == '__main__':\n",
    "    word_count = {}\n",
    "    for date in range(46):\n",
    "        url = f'https://thecolumn.co/daily/{highunsubs[\"Date for web scrape\"].iloc[date]}'\n",
    "        start(url)\n",
    "c = Counter(word_count)\n",
    "top = c.most_common(11)\n",
    "print(top)"
   ]
  },
  {
   "cell_type": "code",
   "execution_count": null,
   "id": "b9e97450",
   "metadata": {},
   "outputs": [],
   "source": [
    "highestunsubs = df[df.Unsubscribes > 4]\n",
    "highestunsubs.reset_index()"
   ]
  },
  {
   "cell_type": "markdown",
   "id": "e7183d40",
   "metadata": {},
   "source": [
    "### Top 10 words during really high unsub rates (5 or more)"
   ]
  },
  {
   "cell_type": "code",
   "execution_count": null,
   "id": "40e0078c",
   "metadata": {},
   "outputs": [],
   "source": [
    "if __name__ == '__main__':\n",
    "    word_count = {}\n",
    "    for date in range(8):\n",
    "        url = f'https://thecolumn.co/daily/{highestunsubs[\"Date for web scrape\"].iloc[date]}'\n",
    "        start(url)\n",
    "c = Counter(word_count)\n",
    "top = c.most_common(11)\n",
    "print(top)"
   ]
  },
  {
   "cell_type": "markdown",
   "id": "f880afde",
   "metadata": {},
   "source": [
    "### Compiling all the links into one dataframe"
   ]
  },
  {
   "cell_type": "code",
   "execution_count": null,
   "id": "bf2ad1e7",
   "metadata": {},
   "outputs": [],
   "source": [
    "links = []\n",
    "file = 'Column Link Files/1 (1).xlsx'\n",
    "link = pd.read_excel(file)"
   ]
  },
  {
   "cell_type": "code",
   "execution_count": null,
   "id": "600d71c6",
   "metadata": {},
   "outputs": [],
   "source": [
    "link.shape"
   ]
  },
  {
   "cell_type": "code",
   "execution_count": null,
   "id": "9c7459ce",
   "metadata": {},
   "outputs": [],
   "source": [
    "for j in range(1,264):\n",
    "    file = f'Column Link Files/1 ({j}).xlsx'\n",
    "    link = pd.read_excel(file)\n",
    "    for i in range(len(link.Link)):\n",
    "        if link.Link.iloc[i] not in links:\n",
    "            links.append(link.Link.iloc[i])\n",
    "#print(links)   "
   ]
  },
  {
   "cell_type": "code",
   "execution_count": null,
   "id": "0df71fc2",
   "metadata": {},
   "outputs": [],
   "source": [
    "all_the_links = pd.DataFrame({'Link':links})\n",
    "all_the_links['Clicks'] = 0\n",
    "all_the_links"
   ]
  },
  {
   "cell_type": "markdown",
   "id": "df248ccc",
   "metadata": {},
   "source": [
    "### Counting the number of clicks across all newsletters"
   ]
  },
  {
   "cell_type": "code",
   "execution_count": null,
   "id": "1e7ebaf4",
   "metadata": {},
   "outputs": [],
   "source": [
    "for l in range(1,264):\n",
    "    file = f'Column Link Files/1 ({l}).xlsx'\n",
    "    excel = pd.read_excel(file)\n",
    "    excel = excel.reset_index()\n",
    "    length = len(excel)\n",
    "    for k in range(length):\n",
    "        if excel.iloc[k,1].astype(int) > 0:\n",
    "            link_name = excel.iloc[k,0]\n",
    "            for m in range(5607):\n",
    "                    if all_the_links.iloc[m,0] == link_name:\n",
    "                        all_the_links.iloc[m,1] = all_the_links.iloc[m,1] + excel.iloc[k,1]\n"
   ]
  },
  {
   "cell_type": "code",
   "execution_count": null,
   "id": "d34a4d52",
   "metadata": {},
   "outputs": [],
   "source": [
    "all_the_links = all_the_links.drop(1, axis=0)"
   ]
  },
  {
   "cell_type": "code",
   "execution_count": null,
   "id": "b7537d19",
   "metadata": {},
   "outputs": [],
   "source": [
    "all_the_links = all_the_links.dropna()"
   ]
  },
  {
   "cell_type": "code",
   "execution_count": null,
   "id": "b2ca8545",
   "metadata": {},
   "outputs": [],
   "source": [
    "all_the_links = all_the_links[all_the_links.iloc[:,1].astype(int) > 0]"
   ]
  },
  {
   "cell_type": "code",
   "execution_count": null,
   "id": "8927936d",
   "metadata": {},
   "outputs": [],
   "source": [
    "all_the_links.reset_index()"
   ]
  },
  {
   "cell_type": "code",
   "execution_count": null,
   "id": "d375b52b",
   "metadata": {},
   "outputs": [],
   "source": [
    "all_the_links = all_the_links.sort_values(by=['Clicks'], ascending=False)"
   ]
  },
  {
   "cell_type": "markdown",
   "id": "dc544024",
   "metadata": {},
   "source": [
    "### Top 25 links clicked on The Column"
   ]
  },
  {
   "cell_type": "code",
   "execution_count": null,
   "id": "caaa1b3c",
   "metadata": {},
   "outputs": [],
   "source": [
    "all_the_links.head(25)"
   ]
  },
  {
   "cell_type": "code",
   "execution_count": null,
   "id": "ee96fc6f",
   "metadata": {},
   "outputs": [],
   "source": [
    "all_the_links.head(15).to_excel(r'top15clicks.xlsx', index = False)"
   ]
  },
  {
   "cell_type": "markdown",
   "id": "d1ce04e5",
   "metadata": {},
   "source": [
    "### Interesting links"
   ]
  },
  {
   "cell_type": "code",
   "execution_count": null,
   "id": "a35598c4",
   "metadata": {},
   "outputs": [],
   "source": [
    "all_the_links.iloc[6,0]"
   ]
  },
  {
   "cell_type": "code",
   "execution_count": null,
   "id": "1f6904db",
   "metadata": {},
   "outputs": [],
   "source": [
    "all_the_links.iloc[17,0]"
   ]
  },
  {
   "cell_type": "code",
   "execution_count": null,
   "id": "ae197c9a",
   "metadata": {},
   "outputs": [],
   "source": [
    "all_the_links.iloc[1:4,0]"
   ]
  },
  {
   "cell_type": "code",
   "execution_count": null,
   "id": "22a890d4",
   "metadata": {},
   "outputs": [],
   "source": [
    "all_the_links.iloc[0,0]"
   ]
  }
 ],
 "metadata": {
  "kernelspec": {
   "display_name": "Python 3",
   "language": "python",
   "name": "python3"
  },
  "language_info": {
   "codemirror_mode": {
    "name": "ipython",
    "version": 3
   },
   "file_extension": ".py",
   "mimetype": "text/x-python",
   "name": "python",
   "nbconvert_exporter": "python",
   "pygments_lexer": "ipython3",
   "version": "3.8.8"
  }
 },
 "nbformat": 4,
 "nbformat_minor": 5
}
